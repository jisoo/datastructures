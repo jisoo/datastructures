{
 "cells": [
  {
   "cell_type": "markdown",
   "metadata": {},
   "source": [
    "# 1. Stack Implementation"
   ]
  },
  {
   "cell_type": "markdown",
   "metadata": {},
   "source": [
    "## I. Array"
   ]
  },
  {
   "cell_type": "code",
   "execution_count": 81,
   "metadata": {},
   "outputs": [],
   "source": [
    "class MyStack:\n",
    "    def __init__(self):\n",
    "        self.arr=[]\n",
    "    \n",
    "    #Adds element to the Stack\n",
    "    def push(self,data):\n",
    "        self.arr.append(data)\n",
    "    \n",
    "    #Removes element from the stack\n",
    "    def pop(self):\n",
    "        if self.arr:\n",
    "            return self.arr.pop()\n",
    "    \n",
    "    # Returns the first item in the stack\n",
    "    def peek(self):\n",
    "        if self.arr:\n",
    "            return self.arr[0]\n",
    "        return -1"
   ]
  },
  {
   "cell_type": "code",
   "execution_count": 82,
   "metadata": {},
   "outputs": [
    {
     "data": {
      "text/plain": [
       "0"
      ]
     },
     "execution_count": 82,
     "metadata": {},
     "output_type": "execute_result"
    }
   ],
   "source": [
    "stack = MyStack()\n",
    "stack.push(0)\n",
    "stack.push(4)\n",
    "stack.push(3)\n",
    "stack.pop()\n",
    "stack.peek()"
   ]
  },
  {
   "cell_type": "markdown",
   "metadata": {},
   "source": [
    "## II. Linked List"
   ]
  },
  {
   "cell_type": "code",
   "execution_count": 83,
   "metadata": {},
   "outputs": [],
   "source": [
    "class LinkedNode:\n",
    "    def __init__(self, val):\n",
    "        self.val = val\n",
    "        self.next = None"
   ]
  },
  {
   "cell_type": "code",
   "execution_count": 89,
   "metadata": {},
   "outputs": [],
   "source": [
    "class LinkedStack:\n",
    "    def __init__(self):\n",
    "        self.head = None\n",
    "    \n",
    "    def push(self, n):\n",
    "        if not self.head: self.head = n\n",
    "        else:\n",
    "            node = self.head        \n",
    "            while node.next:\n",
    "                node = node.next    \n",
    "            node.next = n\n",
    "    \n",
    "    def pop(self):\n",
    "        root = self.head\n",
    "        \n",
    "        if root.next is None:\n",
    "            self.head = None\n",
    "            return root\n",
    "        \n",
    "        prev = root\n",
    "        while root.next:\n",
    "            prev = root\n",
    "            root = root.next\n",
    "\n",
    "        popped = prev.next\n",
    "        prev.next = None\n",
    "        return popped\n",
    "    \n",
    "    def peek(self):\n",
    "        return self.head.val if self.head else -1"
   ]
  },
  {
   "cell_type": "code",
   "execution_count": 90,
   "metadata": {},
   "outputs": [
    {
     "data": {
      "text/plain": [
       "2"
      ]
     },
     "execution_count": 90,
     "metadata": {},
     "output_type": "execute_result"
    }
   ],
   "source": [
    "linkedstack = LinkedStack()\n",
    "linkedstack.push(LinkedNode(2))\n",
    "linkedstack.peek()"
   ]
  },
  {
   "cell_type": "code",
   "execution_count": 91,
   "metadata": {},
   "outputs": [
    {
     "data": {
      "text/plain": [
       "2"
      ]
     },
     "execution_count": 91,
     "metadata": {},
     "output_type": "execute_result"
    }
   ],
   "source": [
    "linkedstack.pop().val"
   ]
  },
  {
   "cell_type": "code",
   "execution_count": 92,
   "metadata": {},
   "outputs": [
    {
     "data": {
      "text/plain": [
       "-1"
      ]
     },
     "execution_count": 92,
     "metadata": {},
     "output_type": "execute_result"
    }
   ],
   "source": [
    "linkedstack.peek()"
   ]
  },
  {
   "cell_type": "markdown",
   "metadata": {},
   "source": [
    "## III. Deque"
   ]
  },
  {
   "cell_type": "code",
   "execution_count": 88,
   "metadata": {},
   "outputs": [
    {
     "data": {
      "text/plain": [
       "3"
      ]
     },
     "execution_count": 88,
     "metadata": {},
     "output_type": "execute_result"
    }
   ],
   "source": [
    "from collections import deque\n",
    "s = deque()\n",
    "s.append(3)\n",
    "s.append(4)\n",
    "s.append(5)\n",
    "s.pop()\n",
    "s[0]"
   ]
  }
 ],
 "metadata": {
  "kernelspec": {
   "display_name": "Python 3",
   "language": "python",
   "name": "python3"
  },
  "language_info": {
   "codemirror_mode": {
    "name": "ipython",
    "version": 3
   },
   "file_extension": ".py",
   "mimetype": "text/x-python",
   "name": "python",
   "nbconvert_exporter": "python",
   "pygments_lexer": "ipython3",
   "version": "3.7.6"
  }
 },
 "nbformat": 4,
 "nbformat_minor": 4
}
