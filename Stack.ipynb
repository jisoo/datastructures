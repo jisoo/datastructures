{
 "cells": [
  {
   "cell_type": "markdown",
   "metadata": {},
   "source": [
    "# 1. Stack Implementation"
   ]
  },
  {
   "cell_type": "markdown",
   "metadata": {},
   "source": [
    "## I. Array"
   ]
  },
  {
   "cell_type": "code",
   "execution_count": 33,
   "metadata": {},
   "outputs": [],
   "source": [
    "class MyStack:\n",
    "    def __init__(self):\n",
    "        self.arr=[]\n",
    "    \n",
    "    #Adds element to the Stack\n",
    "    def push(self,data):\n",
    "        self.arr.append(data)\n",
    "    \n",
    "    #Removes element from the stack\n",
    "    def pop(self):\n",
    "        if self.arr:\n",
    "            return self.arr.pop(0)\n",
    "    \n",
    "    # Returns the first item in the stack\n",
    "    def peek(self):\n",
    "        if self.arr:\n",
    "            return self.arr[0]\n",
    "        return -1"
   ]
  },
  {
   "cell_type": "code",
   "execution_count": 34,
   "metadata": {},
   "outputs": [
    {
     "data": {
      "text/plain": [
       "4"
      ]
     },
     "execution_count": 34,
     "metadata": {},
     "output_type": "execute_result"
    }
   ],
   "source": [
    "stack = MyStack()\n",
    "stack.push(0)\n",
    "stack.push(4)\n",
    "stack.push(3)\n",
    "stack.pop()\n",
    "stack.peek()"
   ]
  },
  {
   "cell_type": "markdown",
   "metadata": {},
   "source": [
    "## II. Linked List"
   ]
  },
  {
   "cell_type": "code",
   "execution_count": 35,
   "metadata": {},
   "outputs": [],
   "source": [
    "class LinkedNode:\n",
    "    def __init__(self, val):\n",
    "        self.val = val\n",
    "        self.next = None"
   ]
  },
  {
   "cell_type": "code",
   "execution_count": 36,
   "metadata": {},
   "outputs": [],
   "source": [
    "class LinkedStack:\n",
    "    def __init__(self):\n",
    "        self.head = None\n",
    "    \n",
    "    def push(self, n):\n",
    "        if not self.head: self.head = n\n",
    "        else:\n",
    "            node = self.head        \n",
    "            while node.next:\n",
    "                node = node.next    \n",
    "            node.next = n\n",
    "    \n",
    "    def pop(self):\n",
    "        node = self.head\n",
    "        if not node.next:\n",
    "            self.head = None\n",
    "        else:\n",
    "            next_node = node.next\n",
    "            node.next = None\n",
    "            self.head = next_node\n",
    "    \n",
    "    def peek(self):\n",
    "        return self.head.val if self.head else -1"
   ]
  },
  {
   "cell_type": "code",
   "execution_count": 37,
   "metadata": {},
   "outputs": [
    {
     "data": {
      "text/plain": [
       "2"
      ]
     },
     "execution_count": 37,
     "metadata": {},
     "output_type": "execute_result"
    }
   ],
   "source": [
    "linkedstack = LinkedStack()\n",
    "linkedstack.push(LinkedNode(2))\n",
    "linkedstack.peek()"
   ]
  },
  {
   "cell_type": "code",
   "execution_count": 38,
   "metadata": {},
   "outputs": [
    {
     "data": {
      "text/plain": [
       "-1"
      ]
     },
     "execution_count": 38,
     "metadata": {},
     "output_type": "execute_result"
    }
   ],
   "source": [
    "linkedstack.pop()\n",
    "linkedstack.peek()"
   ]
  },
  {
   "cell_type": "markdown",
   "metadata": {},
   "source": [
    "## III. Deque"
   ]
  },
  {
   "cell_type": "code",
   "execution_count": 39,
   "metadata": {},
   "outputs": [
    {
     "data": {
      "text/plain": [
       "3"
      ]
     },
     "execution_count": 39,
     "metadata": {},
     "output_type": "execute_result"
    }
   ],
   "source": [
    "from collections import deque\n",
    "s = deque()\n",
    "s.append(3)\n",
    "s.append(4)\n",
    "s.append(5)\n",
    "s.popleft()"
   ]
  }
 ],
 "metadata": {
  "kernelspec": {
   "display_name": "Python 3",
   "language": "python",
   "name": "python3"
  },
  "language_info": {
   "codemirror_mode": {
    "name": "ipython",
    "version": 3
   },
   "file_extension": ".py",
   "mimetype": "text/x-python",
   "name": "python",
   "nbconvert_exporter": "python",
   "pygments_lexer": "ipython3",
   "version": "3.7.6"
  }
 },
 "nbformat": 4,
 "nbformat_minor": 4
}
