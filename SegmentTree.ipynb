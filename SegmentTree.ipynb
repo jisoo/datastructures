{
 "cells": [
  {
   "cell_type": "markdown",
   "metadata": {},
   "source": [
    "# 1. Problem"
   ]
  },
  {
   "cell_type": "markdown",
   "metadata": {},
   "source": [
    "We have an array arr[0 . . . n-1]. We should be able to\n",
    "\n",
    "1. Find the sum of elements from index l to r where 0 <= l <= r <= n-\n",
    "\n",
    "2. Change value of a specified element of the array to a new value x. We need to do arr[i] = x where 0 <= i <= n-1."
   ]
  },
  {
   "cell_type": "markdown",
   "metadata": {},
   "source": [
    "## I. Simple Solution"
   ]
  },
  {
   "cell_type": "markdown",
   "metadata": {},
   "source": [
    "1. Run a loop from l to r and calculate the sum of elements in the given range. \n",
    "2. To update a value, simply do arr[i] = x. \n",
    "\n",
    "The first operation takes O(n) time and the second operation takes O(1) time."
   ]
  },
  {
   "cell_type": "markdown",
   "metadata": {},
   "source": [
    "## II. Another Solution"
   ]
  },
  {
   "cell_type": "markdown",
   "metadata": {},
   "source": [
    "1. Create another array and store sum from start to i at the ith index in this array.\n",
    "\n",
    "The sum of a given range can now be calculated in O(1) time, but update operation takes O(n) time now. This works well if the number of query operations is large and very few updates."
   ]
  },
  {
   "cell_type": "markdown",
   "metadata": {},
   "source": [
    "## III. Segment Tree"
   ]
  },
  {
   "cell_type": "markdown",
   "metadata": {},
   "source": [
    "We can use a Segment Tree to do both operations in O(Log n) time."
   ]
  },
  {
   "cell_type": "markdown",
   "metadata": {},
   "source": [
    "### Representation"
   ]
  },
  {
   "cell_type": "markdown",
   "metadata": {},
   "source": [
    "- Input: Leaf Node\n",
    "- Internal node: merging of the leaf nodes"
   ]
  },
  {
   "cell_type": "markdown",
   "metadata": {},
   "source": [
    "#### Indices at node i"
   ]
  },
  {
   "cell_type": "markdown",
   "metadata": {},
   "source": [
    "1. Left child node: 2 * i + 1\n",
    "2. Right child node: 2 * i + 2\n",
    "3. Parent node: (i - 1) / 2"
   ]
  },
  {
   "cell_type": "markdown",
   "metadata": {},
   "source": [
    "### Differences"
   ]
  },
  {
   "cell_type": "markdown",
   "metadata": {},
   "source": [
    "> Like Heap, the segment tree is also represented as an array. The difference here is, it is not a complete binary tree. It is rather a full binary tree (every node has 0 or 2 children) and all levels are filled except possibly the last level. Unlike Heap, the last level may have gaps between nodes. \n",
    "\n",
    "> All levels of the constructed segment tree will be completely filled except the last level. Also, the tree will be a Full Binary Tree because we always divide segments in two halves at every level.\n",
    "\n",
    "### Size\n",
    "\n",
    "Since the constructed tree is always a full binary tree with n leaves, there will be n-1 internal nodes. If n is a power of 2, then there are no dummy nodes. So the size of the segment tree is 2n-1 (n leaf nodes and n-1) internal nodes. If n is not a power of 2, then the size of the tree will be 2*x – 1 where x is the smallest power of 2 greater than n. For example, when n = 10, then size of array representing segment tree is 2$*$16-1 = 31.\n",
    "\n",
    "### Height\n",
    "Height of the segment tree will be $log_2(n)$. Since the tree is represented using array and relation between parent and child indexes must be maintained, size of memory allocated for segment tree will be $2 * 2^(log_2n) - 1$"
   ]
  },
  {
   "cell_type": "markdown",
   "metadata": {},
   "source": [
    "### Construction"
   ]
  },
  {
   "cell_type": "code",
   "execution_count": 13,
   "metadata": {},
   "outputs": [],
   "source": [
    "def make_st(arr, idx, low, high, segment_tree):\n",
    "    if low == high:\n",
    "        segment_tree[idx] = arr[low]\n",
    "        return arr[low]\n",
    "    \n",
    "    midpoint = low + (high - low) // 2\n",
    "    \n",
    "    left_idx = idx * 2 + 1\n",
    "    right_idx = idx * 2 + 2\n",
    "    segment_tree[idx] = make_st(arr, left_idx, low, midpoint, segment_tree) + make_st(arr, right_idx, midpoint + 1, high, segment_tree)\n",
    "    \n",
    "    return segment_tree[idx]"
   ]
  },
  {
   "cell_type": "code",
   "execution_count": 14,
   "metadata": {},
   "outputs": [],
   "source": [
    "from math import ceil, log2\n",
    "\n",
    "if __name__ == \"__main__\":\n",
    "    arr = [1, 3, 5, 7, 9, 11]\n",
    "    n = len(arr)\n",
    "    \n",
    "    height = (int)(ceil(log2(n)))\n",
    "    max_size = 2 * (int)(2**height) - 1\n",
    "    segment_tree = [0] * max_size\n",
    "    low = 0\n",
    "    high = n - 1\n",
    "    idx = 0\n",
    "    \n",
    "    make_st(arr,idx, low, high, segment_tree)"
   ]
  },
  {
   "cell_type": "markdown",
   "metadata": {},
   "source": [
    "### Sum of range"
   ]
  },
  {
   "cell_type": "code",
   "execution_count": 5,
   "metadata": {},
   "outputs": [],
   "source": [
    "def find_sum(root, idx, low, high, query_low, query_high):\n",
    "    if query_low <= low and query_high >= high:\n",
    "        return root[idx]\n",
    "    \n",
    "    if query_low > high or query_high < low:\n",
    "        return 0\n",
    "    \n",
    "    midpoint = low + (high - low) // 2\n",
    "    left_idx = 2 * idx + 1\n",
    "    right_idx = 2 * idx + 2\n",
    "    \n",
    "    return find_sum(root, left_idx, low, midpoint, query_low, query_high) + find_sum(root, right_idx, midpoint + 1, high, query_low, query_high)"
   ]
  },
  {
   "cell_type": "markdown",
   "metadata": {},
   "source": [
    "### Update"
   ]
  },
  {
   "cell_type": "code",
   "execution_count": 17,
   "metadata": {},
   "outputs": [],
   "source": [
    "# i = index in the input array\n",
    "# diff = value to be added to all nodes which have i in range\n",
    "# diff = new_val - arr[i]\n",
    "def update(segment_tree, i, low, high, diff, idx):\n",
    "    if low < i or i > high:\n",
    "        return\n",
    "    \n",
    "    segment_tree[idx] = segment_tree[idx] + diff\n",
    "    \n",
    "    if low != high:\n",
    "        midpoint = low + (high - low) // 2\n",
    "        \n",
    "        idx_left = 2 * i + 1\n",
    "        idx_right = 2 * i + 2\n",
    "        update(segment_tree, i, low, midpoint, diff, idx_left)\n",
    "        update(segment_tree, i, midpoint + 1, high, diff, idx_right)"
   ]
  }
 ],
 "metadata": {
  "kernelspec": {
   "display_name": "Python 3",
   "language": "python",
   "name": "python3"
  },
  "language_info": {
   "codemirror_mode": {
    "name": "ipython",
    "version": 3
   },
   "file_extension": ".py",
   "mimetype": "text/x-python",
   "name": "python",
   "nbconvert_exporter": "python",
   "pygments_lexer": "ipython3",
   "version": "3.7.6"
  }
 },
 "nbformat": 4,
 "nbformat_minor": 4
}
