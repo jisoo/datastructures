{
 "cells": [
  {
   "cell_type": "markdown",
   "metadata": {},
   "source": [
    "# 1. Graph Implementation"
   ]
  },
  {
   "cell_type": "markdown",
   "metadata": {},
   "source": [
    "## I. Basics"
   ]
  },
  {
   "cell_type": "markdown",
   "metadata": {},
   "source": [
    "The components of a graph include:\n",
    "    1. Edges: a set of ordered tuple of two nodes (u, v)\n",
    "    2. Vertices: A set of nodes"
   ]
  },
  {
   "cell_type": "markdown",
   "metadata": {},
   "source": [
    "The most common representations of a graph include:\n",
    "    1. Adjacency Matrix\n",
    "    2. Adjacency List"
   ]
  },
  {
   "cell_type": "markdown",
   "metadata": {},
   "source": [
    "### Adjacency Matrix"
   ]
  },
  {
   "cell_type": "markdown",
   "metadata": {},
   "source": [
    "Adjacency Matrix is a 2D array of size V x V where V is the number of vertices in a graph.\n",
    "\n",
    "1. Unweighted edge of an adjacency matrix between vertices i and j: adj[i][j] = 1\n",
    "2. Weighted edge of an adjacency matrix between vertices i and j: adj[i][j] = w\n",
    "> Adjacency matrix for undirected graph is always symmetric.\n",
    "3. Removing an edge takes O(1) time. \n",
    "4. Queries can be done O(1).\n",
    "5. Space complexity: O(V^2)\n",
    "6. Adding time complexity: O(V^2)"
   ]
  },
  {
   "cell_type": "markdown",
   "metadata": {},
   "source": [
    "### Adjacency List"
   ]
  },
  {
   "cell_type": "markdown",
   "metadata": {},
   "source": [
    "An array of lists is used. The size of the array is equal to the number of vertices. Let the array be an array[]. An entry array[i] represents the list of vertices adjacent to the ith vertex."
   ]
  },
  {
   "cell_type": "markdown",
   "metadata": {},
   "source": [
    "The weights of edges can be represented as lists of pairs."
   ]
  },
  {
   "cell_type": "code",
   "execution_count": 2,
   "metadata": {},
   "outputs": [],
   "source": [
    "class Node:\n",
    "    def __init__(self, val):\n",
    "        self.val = val\n",
    "        self.next = None"
   ]
  },
  {
   "cell_type": "code",
   "execution_count": null,
   "metadata": {},
   "outputs": [],
   "source": [
    "class Graph:\n",
    "    def __init__(self, vertices):\n",
    "        self.V = vertices\n",
    "        self.graph = [None] * self.V\n",
    "    \n",
    "    def add_edge(self, src, dest):\n",
    "        src_node = Node(src)        \n",
    "        src_node.next = self.graph[dest]\n",
    "        self.graph[dest] = src_node\n",
    "        \n",
    "        dest_node = Node(dest)\n",
    "        dest_node.next = self.graph[src]        \n",
    "        self.graph[src] = dest_node\n",
    "        \n",
    "    # Function to print the graph \n",
    "    def print_graph(self): \n",
    "        for i in range(self.V): \n",
    "            print(\"Adjacency list of vertex {}\\n head\".format(i), end=\"\") \n",
    "            temp = self.graph[i] \n",
    "            while temp: \n",
    "                print(\" -> {}\".format(temp.val), end=\"\") \n",
    "                temp = temp.next\n",
    "            print(\" \\n\")"
   ]
  },
  {
   "cell_type": "code",
   "execution_count": null,
   "metadata": {},
   "outputs": [],
   "source": []
  }
 ],
 "metadata": {
  "kernelspec": {
   "display_name": "Python 3",
   "language": "python",
   "name": "python3"
  },
  "language_info": {
   "codemirror_mode": {
    "name": "ipython",
    "version": 3
   },
   "file_extension": ".py",
   "mimetype": "text/x-python",
   "name": "python",
   "nbconvert_exporter": "python",
   "pygments_lexer": "ipython3",
   "version": "3.7.6"
  }
 },
 "nbformat": 4,
 "nbformat_minor": 4
}
