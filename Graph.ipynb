{
 "cells": [
  {
   "cell_type": "markdown",
   "metadata": {},
   "source": [
    "# 1. Graph Implementation"
   ]
  },
  {
   "cell_type": "markdown",
   "metadata": {},
   "source": [
    "## I. Basics"
   ]
  },
  {
   "cell_type": "markdown",
   "metadata": {},
   "source": [
    "The components of a graph include:\n",
    "    1. Edges: a set of ordered tuple of two nodes (u, v)\n",
    "    2. Vertices: A set of nodes"
   ]
  },
  {
   "cell_type": "markdown",
   "metadata": {},
   "source": [
    "The most common representations of a graph include:\n",
    "    1. Adjacency Matrix\n",
    "    2. Adjacency List"
   ]
  },
  {
   "cell_type": "markdown",
   "metadata": {},
   "source": [
    "### Adjacency Matrix"
   ]
  },
  {
   "cell_type": "markdown",
   "metadata": {},
   "source": [
    "Adjacency Matrix is a 2D array of size V x V where V is the number of vertices in a graph.\n",
    "\n",
    "1. Unweighted edge of an adjacency matrix between vertices i and j: adj[i][j] = 1\n",
    "2. Weighted edge of an adjacency matrix between vertices i and j: adj[i][j] = w\n",
    "> Adjacency matrix for undirected graph is always symmetric.\n",
    "3. Removing an edge takes O(1) time. \n",
    "4. Queries can be done O(1).\n",
    "5. Space complexity: O(V^2)\n",
    "6. Adding time complexity: O(V^2)"
   ]
  },
  {
   "cell_type": "markdown",
   "metadata": {},
   "source": [
    "### Adjacency List"
   ]
  },
  {
   "cell_type": "markdown",
   "metadata": {},
   "source": [
    "An array of lists is used. The size of the array is equal to the number of vertices. Let the array be an array[]. An entry array[i] represents the list of vertices adjacent to the ith vertex."
   ]
  },
  {
   "cell_type": "markdown",
   "metadata": {},
   "source": [
    "The weights of edges can be represented as lists of pairs."
   ]
  },
  {
   "cell_type": "code",
   "execution_count": 1,
   "metadata": {},
   "outputs": [],
   "source": [
    "class Node:\n",
    "    def __init__(self, val):\n",
    "        self.val = val\n",
    "        self.next = None"
   ]
  },
  {
   "cell_type": "code",
   "execution_count": 2,
   "metadata": {},
   "outputs": [],
   "source": [
    "class Graph:\n",
    "    def __init__(self, vertices):\n",
    "        self.V = vertices\n",
    "        self.graph = [None] * self.V\n",
    "    \n",
    "    def add_edge(self, src, dest):\n",
    "        src_node = Node(src)        \n",
    "        src_node.next = self.graph[dest]\n",
    "        self.graph[dest] = src_node\n",
    "        \n",
    "        dest_node = Node(dest)\n",
    "        dest_node.next = self.graph[src]        \n",
    "        self.graph[src] = dest_node\n",
    "        \n",
    "    # Function to print the graph \n",
    "    def print_graph(self): \n",
    "        for i in range(self.V): \n",
    "            print(\"Adjacency list of vertex {}\\n head\".format(i), end=\"\") \n",
    "            temp = self.graph[i] \n",
    "            while temp: \n",
    "                print(\" -> {}\".format(temp.val), end=\"\") \n",
    "                temp = temp.next\n",
    "            print(\" \\n\")"
   ]
  },
  {
   "cell_type": "markdown",
   "metadata": {},
   "source": [
    "## II. Search"
   ]
  },
  {
   "cell_type": "markdown",
   "metadata": {},
   "source": [
    "### BFS "
   ]
  },
  {
   "cell_type": "code",
   "execution_count": 36,
   "metadata": {},
   "outputs": [],
   "source": [
    "from collections import deque, defaultdict\n",
    "class Graph:\n",
    "    def __init__(self):\n",
    "        self.graph = defaultdict(list)\n",
    "\n",
    "    def add_edge(self, v, u):\n",
    "        self.graph[v].append(u)\n",
    "        \n",
    "    def bfs(self, node):\n",
    "        d = deque()\n",
    "        d.append(node)\n",
    "        visited = set()\n",
    "\n",
    "        while d:\n",
    "            p = d.popleft()\n",
    "            print(p)\n",
    "            for n in self.graph[p]:\n",
    "                if n not in visited:\n",
    "                    d.append(n)\n",
    "                    visited.add(n)"
   ]
  },
  {
   "cell_type": "code",
   "execution_count": 37,
   "metadata": {},
   "outputs": [],
   "source": [
    "g = Graph() \n",
    "g.add_edge(0, 1) \n",
    "g.add_edge(0, 2) \n",
    "g.add_edge(1, 2) \n",
    "g.add_edge(2, 0) \n",
    "g.add_edge(2, 3) \n",
    "g.add_edge(3, 3) "
   ]
  },
  {
   "cell_type": "code",
   "execution_count": 38,
   "metadata": {},
   "outputs": [
    {
     "name": "stdout",
     "output_type": "stream",
     "text": [
      "2\n",
      "0\n",
      "3\n",
      "1\n",
      "2\n"
     ]
    }
   ],
   "source": [
    "g.bfs(2)"
   ]
  },
  {
   "cell_type": "markdown",
   "metadata": {},
   "source": [
    "### DFS"
   ]
  },
  {
   "cell_type": "code",
   "execution_count": 49,
   "metadata": {},
   "outputs": [],
   "source": [
    "class Graph:\n",
    "    def __init__(self):\n",
    "        self.graph = defaultdict(list)\n",
    "\n",
    "    def add_edge(self, v, u):\n",
    "        self.graph[v].append(u)\n",
    "        \n",
    "    def dfs(self, node, visited=None):\n",
    "        if visited is None:\n",
    "            visited = set()\n",
    "        visited.add(node)\n",
    "\n",
    "        print(node)\n",
    "        \n",
    "        for n in self.graph[node]:\n",
    "            if n not in visited:\n",
    "                self.dfs(n, visited)"
   ]
  },
  {
   "cell_type": "code",
   "execution_count": 50,
   "metadata": {},
   "outputs": [
    {
     "name": "stdout",
     "output_type": "stream",
     "text": [
      "2\n",
      "0\n",
      "1\n",
      "3\n"
     ]
    }
   ],
   "source": [
    "g = Graph() \n",
    "g.add_edge(0, 1) \n",
    "g.add_edge(0, 2) \n",
    "g.add_edge(1, 2) \n",
    "g.add_edge(2, 0) \n",
    "g.add_edge(2, 3) \n",
    "g.add_edge(3, 3) \n",
    "g.dfs(2)"
   ]
  },
  {
   "cell_type": "markdown",
   "metadata": {},
   "source": [
    "_The above code traverses only the vertices reachable from a given source vertex. All the vertices may not be reachable from a given vertex as in the case of a Disconnected graph. To do complete DFS traversal of such graphs, run DFS from all unvisited nodes after a DFS._"
   ]
  },
  {
   "cell_type": "markdown",
   "metadata": {},
   "source": [
    "Algorithm:\n",
    "1. Create a recursive function that takes the index of node and a visited array.\n",
    "2. Mark the current node as visited and print the node.\n",
    "3. Run a loop from 0 to number of vertices and check if the node is unvisited in previous DFS then call the recursive function with current node."
   ]
  },
  {
   "cell_type": "code",
   "execution_count": 69,
   "metadata": {},
   "outputs": [],
   "source": [
    "class Graph:\n",
    "    def __init__(self):\n",
    "        self.graph = defaultdict(list)\n",
    "\n",
    "    def add_edge(self, v, u):\n",
    "        self.graph[v].append(u)\n",
    "\n",
    "    def util(self, node, visited):\n",
    "        visited.add(node)\n",
    "        print(node)\n",
    "        \n",
    "        for n in self.graph[node]:\n",
    "            if not n in visited:\n",
    "                self.util(n, visited)\n",
    "        \n",
    "    def dfs(self):\n",
    "        visited = set()        \n",
    "        for n in range(len(self.graph)):\n",
    "            if not n in visited:\n",
    "                self.util(n, visited)"
   ]
  },
  {
   "cell_type": "code",
   "execution_count": 70,
   "metadata": {},
   "outputs": [
    {
     "name": "stdout",
     "output_type": "stream",
     "text": [
      "0\n",
      "1\n",
      "2\n",
      "3\n"
     ]
    }
   ],
   "source": [
    "g = Graph() \n",
    "g.add_edge(0, 1) \n",
    "g.add_edge(0, 2) \n",
    "g.add_edge(1, 2) \n",
    "g.add_edge(2, 0) \n",
    "g.add_edge(2, 3) \n",
    "g.add_edge(3, 3) \n",
    "g.dfs()"
   ]
  },
  {
   "cell_type": "markdown",
   "metadata": {},
   "source": [
    "**Applications of DFS**\n",
    "\n",
    "1) For a weighted graph, DFS traversal of the graph produces the minimum spanning tree and all pair shortest path tree.\n",
    "\n",
    "2) Detecting cycle in a graph\n",
    "\n",
    "A graph has cycle if and only if we see a back edge during DFS. So we can run DFS for the graph and check for back edges.\n",
    "\n",
    "3) Path Finding\n",
    "\n",
    "We can specialize the DFS algorithm to find a path between two given vertices u and z.\n",
    "i) Call DFS(G, u) with u as the start vertex.\n",
    "ii) Use a stack S to keep track of the path between the start vertex and the current vertex.\n",
    "iii) As soon as destination vertex z is encountered, return the path as the contents of the stack\n",
    "\n",
    "4) Topological Sorting\n",
    "\n",
    "Topological Sorting is mainly used for scheduling jobs from the given dependencies among jobs. In computer science, applications of this type arise in instruction scheduling, ordering of formula cell evaluation when recomputing formula values in spreadsheets, logic synthesis, determining the order of compilation tasks to perform in makefiles, data serialization, and resolving symbol dependencies in linkers.\n",
    "\n",
    "5) To test if a graph is bipartite\n",
    "\n",
    "We can augment either BFS or DFS when we first discover a new vertex, color it opposited its parents, and for each other edge, check it doesn’t link two vertices of the same color. The first vertex in any connected component can be red or black! \n",
    "\n",
    "6) Finding Strongly Connected Components of a graph \n",
    "\n",
    "A directed graph is called strongly connected if there is a path from each vertex in the graph to every other vertex. (See this for DFS based algo for finding Strongly Connected Components)\n",
    "\n",
    "7) Solving puzzles with only one solution, such as mazes. \n",
    "\n",
    "(DFS can be adapted to find all solutions to a maze by only including nodes on the current path in the visited set.)"
   ]
  }
 ],
 "metadata": {
  "kernelspec": {
   "display_name": "Python 3",
   "language": "python",
   "name": "python3"
  },
  "language_info": {
   "codemirror_mode": {
    "name": "ipython",
    "version": 3
   },
   "file_extension": ".py",
   "mimetype": "text/x-python",
   "name": "python",
   "nbconvert_exporter": "python",
   "pygments_lexer": "ipython3",
   "version": "3.7.6"
  }
 },
 "nbformat": 4,
 "nbformat_minor": 4
}
