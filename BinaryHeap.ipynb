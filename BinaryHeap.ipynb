{
 "cells": [
  {
   "cell_type": "markdown",
   "metadata": {},
   "source": [
    "# 1. Binary Heap Implementation"
   ]
  },
  {
   "cell_type": "markdown",
   "metadata": {},
   "source": [
    "## I. Basics"
   ]
  },
  {
   "cell_type": "markdown",
   "metadata": {},
   "source": [
    "A Binary Heap is either Min Heap or Max Heap. In a Min Binary Heap, the **key at root must be minimum among all keys** present in Binary Heap. The same property must be recursively true for all nodes in Binary Tree. Max Binary Heap is similar to MinHeap.\n",
    "\n",
    "A binary heap is typically represented as an array. The root element is at `Arr[0]`. "
   ]
  },
  {
   "cell_type": "markdown",
   "metadata": {},
   "source": [
    "Consider node `i` in Arr[i].\n",
    "1. The parent node is `Arr[(i-1)/2]`\n",
    "2. The left node is `Arr[(2*i)+1]`\n",
    "3. The right node is `Arr[(2*i)+2]`"
   ]
  },
  {
   "cell_type": "markdown",
   "metadata": {},
   "source": [
    "## II. `heapq`"
   ]
  },
  {
   "cell_type": "code",
   "execution_count": 15,
   "metadata": {},
   "outputs": [],
   "source": [
    "import heapq\n",
    "class minheap:\n",
    "    def __init__(self):\n",
    "        self.heapq = []\n",
    "\n",
    "    def parent(self, idx):\n",
    "        return (idx - 1) // 2\n",
    "\n",
    "    def insert(self, k):\n",
    "        heapq.heappush(self.heapq, k)\n",
    "\n",
    "    def decrease(self, idx, val):\n",
    "        # Set the current node's val as val\n",
    "        # It is assumed the new val is less than the current val\n",
    "        self.heapq[idx] = val\n",
    "        # while node is not root\n",
    "        # and the parent node's value is greater than the current node\n",
    "        while (idx != 0 and self.heapq[self.parent(idx)] > self.heapq[idx]):\n",
    "            # Swap the current node and parent node\n",
    "            # Move up the tree one by one until \n",
    "            # 1. the node becomes the root or \n",
    "            # 2. the node's parent value is greater than the current node\n",
    "            # Minheap means the parent node has value less than the current node\n",
    "            self.heapq[idx], self.heapq[self.parent(idx)] = (\n",
    "                self.heapq[self.parent(idx)], self.heapq[idx])\n",
    "        \n",
    "    def pop(self):\n",
    "        return heapq.heappop(self.heapq)\n",
    "    \n",
    "    def delete(self, idx):\n",
    "        self.decrease(idx, float('-inf'))\n",
    "        self.pop()\n",
    "        \n",
    "    def get_min(self):\n",
    "        return self.heapq[0]"
   ]
  },
  {
   "cell_type": "code",
   "execution_count": 17,
   "metadata": {
    "scrolled": true
   },
   "outputs": [
    {
     "data": {
      "text/plain": [
       "1"
      ]
     },
     "execution_count": 17,
     "metadata": {},
     "output_type": "execute_result"
    }
   ],
   "source": [
    "h = minheap()\n",
    "h.insert(3)\n",
    "h.insert(2)\n",
    "h.insert(4)\n",
    "h.insert(1)\n",
    "h.delete(2)\n",
    "h.get_min()"
   ]
  },
  {
   "cell_type": "code",
   "execution_count": 18,
   "metadata": {},
   "outputs": [
    {
     "data": {
      "text/plain": [
       "2"
      ]
     },
     "execution_count": 18,
     "metadata": {},
     "output_type": "execute_result"
    }
   ],
   "source": [
    "h.delete(0)\n",
    "h.get_min()"
   ]
  }
 ],
 "metadata": {
  "kernelspec": {
   "display_name": "Python 3",
   "language": "python",
   "name": "python3"
  },
  "language_info": {
   "codemirror_mode": {
    "name": "ipython",
    "version": 3
   },
   "file_extension": ".py",
   "mimetype": "text/x-python",
   "name": "python",
   "nbconvert_exporter": "python",
   "pygments_lexer": "ipython3",
   "version": "3.7.6"
  }
 },
 "nbformat": 4,
 "nbformat_minor": 4
}
