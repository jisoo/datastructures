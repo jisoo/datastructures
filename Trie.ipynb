{
 "cells": [
  {
   "cell_type": "markdown",
   "metadata": {},
   "source": [
    "# 1. Trie Implementation"
   ]
  },
  {
   "cell_type": "code",
   "execution_count": 16,
   "metadata": {},
   "outputs": [],
   "source": [
    "class TrieNode:\n",
    "    def __init__(self):\n",
    "        # 26 for alphabets\n",
    "        self.children = [None] * 26\n",
    "        self.is_end = False"
   ]
  },
  {
   "cell_type": "markdown",
   "metadata": {},
   "source": [
    "## I. Trie Insertion and Search"
   ]
  },
  {
   "cell_type": "code",
   "execution_count": 19,
   "metadata": {},
   "outputs": [],
   "source": [
    "class Trie:\n",
    "    def __init__(self):\n",
    "        self.root = TrieNode()\n",
    "    \n",
    "    def get_node(self):\n",
    "        return TrieNode()\n",
    "    \n",
    "    def char_index(self, ch):\n",
    "        return ord(ch) - ord('a')\n",
    "\n",
    "    def insert(self, word):\n",
    "        root = self.root\n",
    "        length = len(word)\n",
    "        \n",
    "        for level in range(length):\n",
    "            char = word[level]\n",
    "            idx = self.char_index(char)\n",
    "            \n",
    "            if not root.children[idx]:\n",
    "                root.children[idx] = self.get_node()\n",
    "            root = root.children[idx]\n",
    "        root.is_end = True\n",
    "        \n",
    "    def search(self, word):\n",
    "        root = self.root\n",
    "        length = len(word)\n",
    "        \n",
    "        for level in range(length):\n",
    "            char = word[level]\n",
    "            idx = self.char_index(char)\n",
    "            \n",
    "            if root.children[idx] is None:\n",
    "                return False\n",
    "            else:\n",
    "                root = root.children[idx]\n",
    "        return root is not None and root.is_end"
   ]
  },
  {
   "cell_type": "code",
   "execution_count": 20,
   "metadata": {},
   "outputs": [
    {
     "name": "stdout",
     "output_type": "stream",
     "text": [
      "the ---- Present in trie\n",
      "these ---- Not present in trie\n",
      "their ---- Present in trie\n",
      "thaw ---- Not present in trie\n"
     ]
    }
   ],
   "source": [
    "# Input keys (use only 'a' through 'z' and lower case) \n",
    "keys = [\"the\",\"a\",\"there\",\"anaswe\",\"any\", \n",
    "        \"by\",\"their\"] \n",
    "output = [\"Not present in trie\", \n",
    "          \"Present in trie\"] \n",
    "\n",
    "# Trie object \n",
    "t = Trie() \n",
    "\n",
    "# Construct trie \n",
    "for key in keys: \n",
    "    t.insert(key) \n",
    "    \n",
    "# Search for different keys \n",
    "print(\"{} ---- {}\".format(\"the\",output[t.search(\"the\")])) \n",
    "print(\"{} ---- {}\".format(\"these\",output[t.search(\"these\")])) \n",
    "print(\"{} ---- {}\".format(\"their\",output[t.search(\"their\")])) \n",
    "print(\"{} ---- {}\".format(\"thaw\",output[t.search(\"thaw\")]))"
   ]
  }
 ],
 "metadata": {
  "kernelspec": {
   "display_name": "Python 3",
   "language": "python",
   "name": "python3"
  },
  "language_info": {
   "codemirror_mode": {
    "name": "ipython",
    "version": 3
   },
   "file_extension": ".py",
   "mimetype": "text/x-python",
   "name": "python",
   "nbconvert_exporter": "python",
   "pygments_lexer": "ipython3",
   "version": "3.7.6"
  }
 },
 "nbformat": 4,
 "nbformat_minor": 4
}
