{
 "cells": [
  {
   "cell_type": "markdown",
   "metadata": {},
   "source": [
    "# 1. LinkedList Implementation"
   ]
  },
  {
   "cell_type": "markdown",
   "metadata": {},
   "source": [
    "## I. Basics"
   ]
  },
  {
   "cell_type": "markdown",
   "metadata": {},
   "source": [
    "1. Accessing an element in an array is fast, while Linked list takes linear time, so it is quite a bit slower.\n",
    "2. The requirement of memory is less due to actual data being stored within the index in the array. As against, there is a need for more memory in Linked Lists due to storage of additional next and previous referencing elements."
   ]
  },
  {
   "cell_type": "code",
   "execution_count": 1,
   "metadata": {},
   "outputs": [],
   "source": [
    "class LinkNode:\n",
    "    def __init__(self, val):\n",
    "        self.val = val\n",
    "        self.next = None"
   ]
  },
  {
   "cell_type": "code",
   "execution_count": 2,
   "metadata": {},
   "outputs": [],
   "source": [
    "class LinkedList:\n",
    "    def __init__(self):\n",
    "        self.head = None"
   ]
  },
  {
   "cell_type": "markdown",
   "metadata": {},
   "source": [
    "## II. Insert"
   ]
  },
  {
   "cell_type": "code",
   "execution_count": 15,
   "metadata": {},
   "outputs": [],
   "source": [
    "# Insert at end\n",
    "def insert_end(self, n):\n",
    "    node = self.head\n",
    "    while node.next:\n",
    "        node = node.next\n",
    "    node.next = n"
   ]
  },
  {
   "cell_type": "code",
   "execution_count": 16,
   "metadata": {},
   "outputs": [],
   "source": [
    "# Insert a new node at the beginning \n",
    "def insert_beginning(self, new_data): \n",
    "  \n",
    "    # 1 & 2: Allocate the Node & \n",
    "    #        Put in the data \n",
    "    new_node = Node(new_data) \n",
    "          \n",
    "    # 3. Make next of new Node as head \n",
    "    new_node.next = self.head \n",
    "          \n",
    "    # 4. Move the head to point to new Node  \n",
    "    self.head = new_node "
   ]
  },
  {
   "cell_type": "code",
   "execution_count": 17,
   "metadata": {},
   "outputs": [],
   "source": [
    "# Insert at index\n",
    "def insert(self, prev_node, new_data):\n",
    "    next_node = prev_node.next if prev_node.next else None\n",
    "    \n",
    "    prev_node.next = Node(new_data)\n",
    "    prev_node.next.next = next_node\n",
    "    \n",
    "    return self.head"
   ]
  }
 ],
 "metadata": {
  "kernelspec": {
   "display_name": "Python 3",
   "language": "python",
   "name": "python3"
  },
  "language_info": {
   "codemirror_mode": {
    "name": "ipython",
    "version": 3
   },
   "file_extension": ".py",
   "mimetype": "text/x-python",
   "name": "python",
   "nbconvert_exporter": "python",
   "pygments_lexer": "ipython3",
   "version": "3.7.6"
  }
 },
 "nbformat": 4,
 "nbformat_minor": 4
}
