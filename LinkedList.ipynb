{
 "cells": [
  {
   "cell_type": "markdown",
   "metadata": {},
   "source": [
    "# 1. LinkedList Implementation"
   ]
  },
  {
   "cell_type": "markdown",
   "metadata": {},
   "source": [
    "## I. Basics"
   ]
  },
  {
   "cell_type": "markdown",
   "metadata": {},
   "source": [
    "1. Accessing an element in an array is fast, while Linked list takes linear time, so it is quite a bit slower.\n",
    "2. The requirement of memory is less due to actual data being stored within the index in the array. As against, there is a need for more memory in Linked Lists due to storage of additional next and previous referencing elements."
   ]
  },
  {
   "cell_type": "code",
   "execution_count": 12,
   "metadata": {},
   "outputs": [],
   "source": [
    "class LinkNode:\n",
    "    def __init__(self, val):\n",
    "        self.val = val\n",
    "        self.next = None"
   ]
  },
  {
   "cell_type": "code",
   "execution_count": 13,
   "metadata": {},
   "outputs": [],
   "source": [
    "class LinkedList:\n",
    "    def __init__(self):\n",
    "        self.head = None"
   ]
  },
  {
   "cell_type": "markdown",
   "metadata": {},
   "source": [
    "## II. Insert"
   ]
  },
  {
   "cell_type": "code",
   "execution_count": 20,
   "metadata": {},
   "outputs": [],
   "source": [
    "class LinkedList:\n",
    "    def __init__(self):\n",
    "        self.head = None\n",
    "    # Insert at end\n",
    "    def insert_end(self, n):\n",
    "        if self.head is None:\n",
    "            self.head = LinkNode(n)\n",
    "            return \n",
    "        \n",
    "        node = self.head\n",
    "        while node.next:\n",
    "            node = node.next\n",
    "        node.next = LinkNode(n)\n",
    "        \n",
    "    # Insert a new node at the beginning \n",
    "    def insert_beginning(self, new_data): \n",
    "\n",
    "        # 1 & 2: Allocate the Node & \n",
    "        #        Put in the data \n",
    "        new_node = Node(new_data) \n",
    "\n",
    "        # 3. Make next of new Node as head \n",
    "        new_node.next = self.head \n",
    "\n",
    "        # 4. Move the head to point to new Node  \n",
    "        self.head = new_node \n",
    "    # Insert at index\n",
    "    def insert(self, prev_node, new_data):\n",
    "        next_node = prev_node.next if prev_node.next else None\n",
    "\n",
    "        prev_node.next = Node(new_data)\n",
    "        prev_node.next.next = next_node\n",
    "\n",
    "        return self.head"
   ]
  },
  {
   "cell_type": "markdown",
   "metadata": {},
   "source": [
    "## III. Delete"
   ]
  },
  {
   "cell_type": "code",
   "execution_count": 22,
   "metadata": {},
   "outputs": [],
   "source": [
    "class LinkedList:\n",
    "    def __init__(self):\n",
    "        self.head = None\n",
    "    # Insert at end\n",
    "    def insert_end(self, n):\n",
    "        if self.head is None:\n",
    "            self.head = LinkNode(n)\n",
    "            return \n",
    "        \n",
    "        node = self.head\n",
    "        while node.next:\n",
    "            node = node.next\n",
    "        node.next = LinkNode(n)\n",
    "        \n",
    "    def delete(self, val):\n",
    "        head = self.head\n",
    "        if head is None or head.next is None:\n",
    "            return head\n",
    "    \n",
    "        prev = None\n",
    "        while head.next:\n",
    "            if head.val == val:\n",
    "                if prev is None:\n",
    "                    new_head = head.next\n",
    "                    head.next = None\n",
    "                    self.head = new_head\n",
    "                    break\n",
    "            \n",
    "                prev.next = head.next\n",
    "                break\n",
    "                \n",
    "            prev = head\n",
    "            head = head.next\n",
    "        \n",
    "        return self.head"
   ]
  },
  {
   "cell_type": "code",
   "execution_count": 24,
   "metadata": {},
   "outputs": [
    {
     "data": {
      "text/plain": [
       "7"
      ]
     },
     "execution_count": 24,
     "metadata": {},
     "output_type": "execute_result"
    }
   ],
   "source": [
    "llist = LinkedList()  \n",
    "llist.insert_end(7)  \n",
    "llist.insert_end(1)  \n",
    "llist.insert_end(3)  \n",
    "llist.insert_end(2)\n",
    "llist.delete(1).val"
   ]
  },
  {
   "cell_type": "markdown",
   "metadata": {},
   "source": [
    "# 2. Doubly Linked List"
   ]
  },
  {
   "cell_type": "code",
   "execution_count": 25,
   "metadata": {},
   "outputs": [],
   "source": [
    "class DoublyLinkedNode:\n",
    "    def __init__(self, val):\n",
    "        self.prev = None\n",
    "        self.next = None\n",
    "        self.val = val"
   ]
  },
  {
   "cell_type": "code",
   "execution_count": 29,
   "metadata": {},
   "outputs": [],
   "source": [
    "class DoublyLinkedList:\n",
    "    def __init__(self):\n",
    "        self.head = None\n",
    "        \n",
    "    def insert(self, val, idx):\n",
    "        node = DoublyLinkedNode(val)\n",
    "\n",
    "        if self.head is None:\n",
    "            self.head = node\n",
    "        elif idx == 0:\n",
    "            node.next = self.head\n",
    "            self.head.prev = node\n",
    "            self.head = node\n",
    "        else:\n",
    "            n = self.head\n",
    "            prev = None\n",
    "            while n.next and idx:\n",
    "                prev = n\n",
    "                n = n.next\n",
    "                idx -= 1\n",
    "               \n",
    "            prev.next = node\n",
    "            node.next = n\n",
    "            n.prev = node\n",
    "            \n",
    "        return self.head"
   ]
  },
  {
   "cell_type": "code",
   "execution_count": 33,
   "metadata": {},
   "outputs": [
    {
     "data": {
      "text/plain": [
       "4"
      ]
     },
     "execution_count": 33,
     "metadata": {},
     "output_type": "execute_result"
    }
   ],
   "source": [
    "llist = DoublyLinkedList()\n",
    "llist.insert(1, 0).val\n",
    "llist.insert(2, 0).val\n",
    "llist.insert(3, 1).val\n",
    "llist.insert(4, 0).val"
   ]
  }
 ],
 "metadata": {
  "kernelspec": {
   "display_name": "Python 3",
   "language": "python",
   "name": "python3"
  },
  "language_info": {
   "codemirror_mode": {
    "name": "ipython",
    "version": 3
   },
   "file_extension": ".py",
   "mimetype": "text/x-python",
   "name": "python",
   "nbconvert_exporter": "python",
   "pygments_lexer": "ipython3",
   "version": "3.7.6"
  }
 },
 "nbformat": 4,
 "nbformat_minor": 4
}
