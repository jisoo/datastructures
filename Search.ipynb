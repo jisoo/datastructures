{
 "cells": [
  {
   "cell_type": "markdown",
   "metadata": {},
   "source": [
    "# 1. Linear Search"
   ]
  },
  {
   "cell_type": "code",
   "execution_count": 12,
   "metadata": {},
   "outputs": [],
   "source": [
    "def linear_search(arr, val):\n",
    "    for idx, a in enumerate(arr):\n",
    "        if a == val:\n",
    "            return val\n",
    "    \n",
    "    return -1"
   ]
  },
  {
   "cell_type": "code",
   "execution_count": 2,
   "metadata": {},
   "outputs": [
    {
     "data": {
      "text/plain": [
       "3"
      ]
     },
     "execution_count": 2,
     "metadata": {},
     "output_type": "execute_result"
    }
   ],
   "source": [
    "arr = [3,2,6,7,1,4]\n",
    "linear_search(arr, 7)"
   ]
  },
  {
   "cell_type": "markdown",
   "metadata": {},
   "source": [
    "# 2. Binary Search"
   ]
  },
  {
   "cell_type": "code",
   "execution_count": 8,
   "metadata": {},
   "outputs": [],
   "source": [
    "def binary_search(arr, val):\n",
    "    # The arr is assumed to be sorted\n",
    "    \n",
    "    mid = len(arr) // 2\n",
    "    \n",
    "    if arr[mid] < val:\n",
    "        return binary_search(arr[mid:], val)\n",
    "    elif arr[mid] > val:\n",
    "        return binary_search(arr[:mid], val)\n",
    "    else:\n",
    "        return val"
   ]
  },
  {
   "cell_type": "code",
   "execution_count": 9,
   "metadata": {},
   "outputs": [
    {
     "data": {
      "text/plain": [
       "10"
      ]
     },
     "execution_count": 9,
     "metadata": {},
     "output_type": "execute_result"
    }
   ],
   "source": [
    "arr = [2,3,4,10,40] \n",
    "x = 10\n",
    "binary_search(arr, x)"
   ]
  },
  {
   "cell_type": "markdown",
   "metadata": {},
   "source": [
    "# 3. Jump Search\n",
    "\n",
    "What is the optimal block size to be skipped?\n",
    "In the worst case, we have to do n/m jumps and if the last checked value is greater than the element to be searched for, we perform m-1 comparisons more for linear search. Therefore the total number of comparisons in the worst case will be ((n/m) + m-1). The value of the function ((n/m) + m-1) will be minimum when m = √n. Therefore, the best step size is m = √n.\n",
    "\n",
    "Time Complexity : O(√n)\n",
    "\n",
    "Auxiliary Space : O(1)\n",
    "\n",
    "Important points:\n",
    "\n",
    "1. Works only sorted arrays.\n",
    "\n",
    "2. The optimal size of a block to be jumped is (√ n). This makes the time complexity of Jump Search O(√ n).\n",
    "\n",
    "3. The time complexity of Jump Search is between Linear Search ( ( O(n) ) and Binary Search ( O (Log n) ).\n",
    "\n",
    "4. Binary Search is better than Jump Search, but Jump search has an advantage that we traverse back only once (Binary Search may require up to O(Log n) jumps, consider a situation where the element to be searched is the smallest element or smaller than the smallest). So in a system where binary search is costly, we use Jump Search."
   ]
  },
  {
   "cell_type": "code",
   "execution_count": 14,
   "metadata": {},
   "outputs": [],
   "source": [
    "import math\n",
    "def jump_search(arr, val):\n",
    "    jump = math.floor(math.sqrt(len(arr)))\n",
    "    \n",
    "    idx = 0\n",
    "    while idx < len(arr):\n",
    "        if arr[idx] > val:\n",
    "            idx -= jump\n",
    "            return linear_search(arr[idx:idx+jump], val)\n",
    "        else:\n",
    "            idx += jump\n",
    "    \n",
    "    return -1"
   ]
  },
  {
   "cell_type": "code",
   "execution_count": 17,
   "metadata": {},
   "outputs": [
    {
     "data": {
      "text/plain": [
       "1"
      ]
     },
     "execution_count": 17,
     "metadata": {},
     "output_type": "execute_result"
    }
   ],
   "source": [
    "arr = [ 0, 1, 1, 2, 3, 5, 8, 13, 21, \n",
    "    34, 55, 89, 144, 233, 377, 610 ] \n",
    "x = 1\n",
    "jump_search(arr, x)"
   ]
  },
  {
   "cell_type": "markdown",
   "metadata": {},
   "source": [
    "Linear Search finds the element in O(n) time, Jump Search takes O(√ n) time and Binary Search take O(Log n) time."
   ]
  },
  {
   "cell_type": "markdown",
   "metadata": {},
   "source": [
    "# 4. Interpolation Search"
   ]
  },
  {
   "cell_type": "markdown",
   "metadata": {},
   "source": [
    "Interpolation search may go to different locations according to the value being searched. For example, if the value of the value is closer to the last element, interpolation search is likely to start search toward the end side."
   ]
  },
  {
   "cell_type": "markdown",
   "metadata": {},
   "source": [
    "Step1: In a loop, calculate the value of “pos” using the probe position formula.\n",
    "\n",
    "Step2: If it is a match, return the index of the item, and exit.\n",
    "\n",
    "Step3: If the item is less than arr[pos], calculate the probe position of the left sub-array. Otherwise calculate the same in the right sub-array.\n",
    "\n",
    "Step4: Repeat until a match is found or the sub-array reduces to zero.\n",
    "\n",
    "Runtime complexity of interpolation search algorithm is Ο(log (log n)) as compared to Ο(log n) of BST in favorable situations."
   ]
  },
  {
   "cell_type": "markdown",
   "metadata": {},
   "source": [
    "pos = low + ((value - arr[low])*(high - low) / (arr[high] - arr[low]))"
   ]
  },
  {
   "cell_type": "code",
   "execution_count": 27,
   "metadata": {},
   "outputs": [],
   "source": [
    "def interpolation_search(arr, value):\n",
    "    low, high = (0, len(arr) - 1)\n",
    "    \n",
    "    while low <= high and arr[low] <= value <= arr[high]:\n",
    "        if low == high:\n",
    "            if value == arr[low]: return low\n",
    "            return -1\n",
    "        \n",
    "        pos = low + int(float(high - low) / (arr[high] - arr[low]) * (value - arr[low]))\n",
    "        if value == arr[pos]:\n",
    "            return pos\n",
    "        elif value < arr[pos]:\n",
    "            high = pos - 1\n",
    "        else:\n",
    "            low = pos + 1\n",
    "            \n",
    "    return -1"
   ]
  },
  {
   "cell_type": "code",
   "execution_count": 28,
   "metadata": {},
   "outputs": [
    {
     "data": {
      "text/plain": [
       "4"
      ]
     },
     "execution_count": 28,
     "metadata": {},
     "output_type": "execute_result"
    }
   ],
   "source": [
    "arr = [10, 12, 13, 16, 18, 19, 20, 21, 22, 23, 24, 33, 35, 42, 47] \n",
    "x = 18 # Element to be searched \n",
    "interpolation_search(arr, x) "
   ]
  },
  {
   "cell_type": "markdown",
   "metadata": {},
   "source": [
    "# 5. Exponential Search"
   ]
  },
  {
   "cell_type": "markdown",
   "metadata": {},
   "source": [
    "The name of this searching algorithm may be misleading as it works in O(Log n) time.\n",
    "\n",
    "Exponential search involves two steps:\n",
    "\n",
    "1. Find range where element is present\n",
    "\n",
    "2. Do Binary Search in above found range."
   ]
  },
  {
   "cell_type": "code",
   "execution_count": 29,
   "metadata": {},
   "outputs": [],
   "source": [
    "def exponential_search(arr, value):\n",
    "    n = len(arr)\n",
    "    \n",
    "    if arr[0] == value:\n",
    "        return 0\n",
    "    \n",
    "    idx = 1\n",
    "    while idx < n and arr[idx] <= value:\n",
    "        idx = idx * 2\n",
    "    \n",
    "    return binary_search(arr, value)"
   ]
  },
  {
   "cell_type": "code",
   "execution_count": 30,
   "metadata": {},
   "outputs": [
    {
     "data": {
      "text/plain": [
       "10"
      ]
     },
     "execution_count": 30,
     "metadata": {},
     "output_type": "execute_result"
    }
   ],
   "source": [
    "arr = [2, 3, 4, 10, 40] \n",
    "x = 10\n",
    "exponential_search(arr, x) "
   ]
  },
  {
   "cell_type": "markdown",
   "metadata": {},
   "source": [
    "Time Complexity : O(Log n)\n",
    "\n",
    "Auxiliary Space : The above implementation of Binary Search is recursive and requires O(Log n) space. With iterative Binary Search, we need only O(1) space."
   ]
  },
  {
   "cell_type": "markdown",
   "metadata": {},
   "source": [
    "# 6. Binary vs. Ternary"
   ]
  },
  {
   "cell_type": "markdown",
   "metadata": {},
   "source": [
    "In binary search, there are 2Log2n + 1 comparisons in worst case. In ternary search, there are 4Log3n + 1 comparisons in worst case.\n",
    "\n",
    "Time Complexity for Binary search = 2clog2n + O(1)\n",
    "Time Complexity for Ternary search = 4clog3n + O(1)\n",
    "Therefore, the comparison of Ternary and Binary Searches boils down the comparison of expressions 2Log3n and Log2n . The value of 2Log3n can be written as (2 / Log23) * Log2n . Since the value of (2 / Log23) is more than one, Ternary Search does more comparisons than Binary Search in worst case."
   ]
  },
  {
   "cell_type": "code",
   "execution_count": null,
   "metadata": {},
   "outputs": [],
   "source": []
  }
 ],
 "metadata": {
  "kernelspec": {
   "display_name": "Python 3",
   "language": "python",
   "name": "python3"
  },
  "language_info": {
   "codemirror_mode": {
    "name": "ipython",
    "version": 3
   },
   "file_extension": ".py",
   "mimetype": "text/x-python",
   "name": "python",
   "nbconvert_exporter": "python",
   "pygments_lexer": "ipython3",
   "version": "3.7.6"
  }
 },
 "nbformat": 4,
 "nbformat_minor": 4
}
