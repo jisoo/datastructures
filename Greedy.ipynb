{
 "cells": [
  {
   "cell_type": "markdown",
   "metadata": {},
   "source": [
    "Greedy is an algorithmic paradigm that builds up a solution piece by piece, always choosing the next piece that offers the most obvious and immediate benefit. \n",
    "\n",
    "If a Greedy Algorithm can solve a problem, then it generally becomes the best method to solve that problem as the Greedy algorithms are in general more efficient than other techniques like Dynamic Programming. But Greedy algorithms cannot always be applied. For example, Fractional Knapsack problem (See this) can be solved using Greedy, but 0-1 Knapsack cannot be solved using Greedy."
   ]
  },
  {
   "cell_type": "markdown",
   "metadata": {},
   "source": [
    "# 1. Algorithms"
   ]
  },
  {
   "cell_type": "markdown",
   "metadata": {},
   "source": [
    "## I. Kruskal's Minimum Spanning Tree (MST)\n",
    "\n",
    "We create a MST picking edges one by one. The greedy choice is to pick the smallest weight edge that doesn't cause a cycle in the MST constructed so far. "
   ]
  },
  {
   "cell_type": "markdown",
   "metadata": {},
   "source": [
    "## II. Prim's MST\n",
    "\n",
    "Also picks MST edges one by one. Maintan two sets:\n",
    "\n",
    "1) A set of the verticees already included in MST. \\\n",
    "2) A set of vertices not yet included.\n",
    "\n",
    "Pick the smallest weight edge that connects the two sets"
   ]
  },
  {
   "cell_type": "markdown",
   "metadata": {},
   "source": [
    "## III. Dijikstra's Shortest Path\n",
    "\n",
    "The shortest path tree is built up, edge by edge. Maintain two sets:\n",
    "\n",
    "1) A set of the vertices already included in the tree \\\n",
    "2) A set of vertices not yet included.\n",
    "\n",
    "Pick the edge that connects the two sets and is on the smallest weight path from the source to the set that contains not yet included vertices."
   ]
  },
  {
   "cell_type": "markdown",
   "metadata": {},
   "source": [
    "## IV. Huffman Coding\n",
    "\n",
    "Assigns variable-legth bit codes to different characters. Assign least bit length code to the most frequent character."
   ]
  },
  {
   "cell_type": "markdown",
   "metadata": {},
   "source": [
    "# 2. Problems"
   ]
  },
  {
   "cell_type": "markdown",
   "metadata": {},
   "source": [
    "## I. Traveling Salesman Problem\n",
    "\n",
    "1) NP-Hard problem. \\\n",
    "2) Pick the nearest unvisited city from the current city at every step. \\\n",
    "3) Doesn't always produce the best optimal solution. It provides approximation."
   ]
  },
  {
   "cell_type": "markdown",
   "metadata": {},
   "source": [
    "## II. Activity Selection Problem\n",
    "\n",
    "_You are given n activities with their start and finish times. Select the maximum number of activities that can be performed by a single person, assuming that a person can only work on a single activity at a time._"
   ]
  },
  {
   "cell_type": "code",
   "execution_count": 2,
   "metadata": {},
   "outputs": [],
   "source": [
    "def select_activity(start, finish):\n",
    "    activities = [[start[0], finish[0]]]\n",
    "    prev_end = activities[-1][-1]\n",
    "                  \n",
    "    if len(start) == 1:\n",
    "        return activities\n",
    "\n",
    "    for s, f in zip(start, finish):\n",
    "        if s >= prev_end:\n",
    "            activities.append([s, f])\n",
    "            prev_end = f\n",
    "                  \n",
    "    return activities"
   ]
  },
  {
   "cell_type": "code",
   "execution_count": 3,
   "metadata": {},
   "outputs": [
    {
     "data": {
      "text/plain": [
       "[[1, 2], [3, 4], [5, 7], [8, 9]]"
      ]
     },
     "execution_count": 3,
     "metadata": {},
     "output_type": "execute_result"
    }
   ],
   "source": [
    "start  =  [1, 3, 0, 5, 8, 5]\n",
    "finish =  [2, 4, 6, 7, 9, 9]\n",
    "select_activity(start, finish)"
   ]
  },
  {
   "cell_type": "code",
   "execution_count": 6,
   "metadata": {},
   "outputs": [],
   "source": [
    "# If the lists are not sorted:\n",
    "def take_second(elem):\n",
    "    return elem[1]\n",
    "\n",
    "input_list = [(0,1),(1,2)]\n",
    "input_list.sort(key=take_second)"
   ]
  },
  {
   "cell_type": "code",
   "execution_count": null,
   "metadata": {},
   "outputs": [],
   "source": []
  }
 ],
 "metadata": {
  "kernelspec": {
   "display_name": "Python 3",
   "language": "python",
   "name": "python3"
  },
  "language_info": {
   "codemirror_mode": {
    "name": "ipython",
    "version": 3
   },
   "file_extension": ".py",
   "mimetype": "text/x-python",
   "name": "python",
   "nbconvert_exporter": "python",
   "pygments_lexer": "ipython3",
   "version": "3.7.6"
  }
 },
 "nbformat": 4,
 "nbformat_minor": 4
}
