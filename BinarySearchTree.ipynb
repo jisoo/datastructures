{
 "cells": [
  {
   "cell_type": "markdown",
   "metadata": {},
   "source": [
    "# 1. Binary Search Tree Implementation"
   ]
  },
  {
   "cell_type": "markdown",
   "metadata": {},
   "source": [
    "## I. Basics"
   ]
  },
  {
   "cell_type": "markdown",
   "metadata": {},
   "source": [
    "The requirements of the node-based binary tree data structures are as follows:\n",
    "    1. The left subtree of a node contains only nodes with value lesser than the node's value\n",
    "    2. The right subtree of a node contains only nodes with value greater than the node's value\n",
    "    3. The left and right subtree each must also be binary search tree.\n",
    "    4. There must be no duplicate nodes"
   ]
  },
  {
   "cell_type": "markdown",
   "metadata": {},
   "source": [
    "## II. Insertion"
   ]
  },
  {
   "cell_type": "code",
   "execution_count": 37,
   "metadata": {},
   "outputs": [],
   "source": [
    "class Node:\n",
    "    def __init__(self, val):\n",
    "        self.val = val\n",
    "        self.right = None\n",
    "        self.left = None"
   ]
  },
  {
   "cell_type": "code",
   "execution_count": 38,
   "metadata": {},
   "outputs": [],
   "source": [
    "def insert(root, key):\n",
    "    if root is None:\n",
    "        root = Node(key)\n",
    "        return root\n",
    "    \n",
    "    left = root.left\n",
    "    right = root.right\n",
    "    \n",
    "    if key < root.val:\n",
    "        if root.left is None:\n",
    "            root.left = Node(key)\n",
    "        else:\n",
    "            insert(left, key)\n",
    "    else:\n",
    "        if root.right is None:\n",
    "            root.right = Node(key)\n",
    "        else:\n",
    "            insert(right, key)"
   ]
  },
  {
   "cell_type": "code",
   "execution_count": 39,
   "metadata": {},
   "outputs": [],
   "source": [
    "r = Node(50) \n",
    "insert(r,30) \n",
    "insert(r,20) \n",
    "insert(r,40) \n",
    "insert(r,70) \n",
    "insert(r,60) \n",
    "insert(r,80) "
   ]
  },
  {
   "cell_type": "code",
   "execution_count": 40,
   "metadata": {},
   "outputs": [],
   "source": [
    "def inorder(root):\n",
    "    if root:        \n",
    "        inorder(root.left)\n",
    "        print(root.val)\n",
    "        inorder(root.right)"
   ]
  },
  {
   "cell_type": "code",
   "execution_count": 41,
   "metadata": {},
   "outputs": [
    {
     "name": "stdout",
     "output_type": "stream",
     "text": [
      "20\n",
      "30\n",
      "40\n",
      "50\n",
      "60\n",
      "70\n",
      "80\n"
     ]
    }
   ],
   "source": [
    "inorder(r)"
   ]
  },
  {
   "cell_type": "markdown",
   "metadata": {},
   "source": [
    "## III. Search"
   ]
  },
  {
   "cell_type": "code",
   "execution_count": 42,
   "metadata": {},
   "outputs": [],
   "source": [
    "def search(root, key):\n",
    "    if root.val == key or root is None:\n",
    "        print(root.val)\n",
    "        return root\n",
    "    \n",
    "    right = root.right\n",
    "    left = root.left\n",
    "    \n",
    "    if key < root.val:\n",
    "        search(left, key)\n",
    "    else:\n",
    "        search(right, key)"
   ]
  },
  {
   "cell_type": "code",
   "execution_count": 43,
   "metadata": {
    "scrolled": true
   },
   "outputs": [
    {
     "name": "stdout",
     "output_type": "stream",
     "text": [
      "20\n"
     ]
    }
   ],
   "source": [
    "search(r, 20)"
   ]
  },
  {
   "cell_type": "markdown",
   "metadata": {},
   "source": [
    "## IV. Delete"
   ]
  },
  {
   "cell_type": "markdown",
   "metadata": {},
   "source": [
    "_Node to be deleted has two children: Find inorder successor of the node. Copy contents of the inorder successor to the node and delete the inorder successor. Note that inorder predecessor can also be used. The important thing to note is, inorder successor is needed only when right child is not empty. In this particular case, inorder successor can be obtained by finding the minimum value in right child of the node._"
   ]
  },
  {
   "cell_type": "code",
   "execution_count": 77,
   "metadata": {},
   "outputs": [],
   "source": [
    "def get_min(node):\n",
    "    while node.left is not None:\n",
    "        node = node.left\n",
    "    return node"
   ]
  },
  {
   "cell_type": "code",
   "execution_count": 78,
   "metadata": {},
   "outputs": [],
   "source": [
    "def delete(node, key):\n",
    "    val = node.val\n",
    "    \n",
    "    if node is None: return node\n",
    "    \n",
    "    if val < node.val:\n",
    "        delete(node.left, val)\n",
    "    elif val > node.val:\n",
    "        delete(node.right, val)\n",
    "    else:\n",
    "        if node.left is None:\n",
    "            temp = node.right\n",
    "            return temp\n",
    "        elif node.right is None:\n",
    "            temp = node.left\n",
    "            return temp\n",
    "        else:\n",
    "            temp = get_min(node.right)\n",
    "            node.val = temp.val\n",
    "            node.right = delete(node.right, temp.val)\n",
    "    return node"
   ]
  },
  {
   "cell_type": "code",
   "execution_count": 80,
   "metadata": {},
   "outputs": [
    {
     "data": {
      "text/plain": [
       "60"
      ]
     },
     "execution_count": 80,
     "metadata": {},
     "output_type": "execute_result"
    }
   ],
   "source": [
    "delete(r,30).val"
   ]
  }
 ],
 "metadata": {
  "kernelspec": {
   "display_name": "Python 3",
   "language": "python",
   "name": "python3"
  },
  "language_info": {
   "codemirror_mode": {
    "name": "ipython",
    "version": 3
   },
   "file_extension": ".py",
   "mimetype": "text/x-python",
   "name": "python",
   "nbconvert_exporter": "python",
   "pygments_lexer": "ipython3",
   "version": "3.7.6"
  }
 },
 "nbformat": 4,
 "nbformat_minor": 4
}
