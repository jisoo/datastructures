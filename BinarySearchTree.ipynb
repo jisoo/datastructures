{
 "cells": [
  {
   "cell_type": "markdown",
   "metadata": {},
   "source": [
    "# 1. Binary Search Tree Implementation"
   ]
  },
  {
   "cell_type": "markdown",
   "metadata": {},
   "source": [
    "## 1. Basics"
   ]
  },
  {
   "cell_type": "markdown",
   "metadata": {},
   "source": [
    "The requirements of the node-based binary tree data structures are as follows:\n",
    "    1. The left subtree of a node contains only nodes with value lesser than the node's value\n",
    "    2. The right subtree of a node contains only nodes with value greater than the node's value\n",
    "    3. The left and right subtree each must also be binary search tree.\n",
    "    4. There must be no duplicate nodes"
   ]
  },
  {
   "cell_type": "markdown",
   "metadata": {},
   "source": [
    "## 2. Insertion"
   ]
  },
  {
   "cell_type": "code",
   "execution_count": 3,
   "metadata": {},
   "outputs": [],
   "source": [
    "class Node:\n",
    "    def __init__(self, val):\n",
    "        self.val = val\n",
    "        self.right = None\n",
    "        self.left = None"
   ]
  },
  {
   "cell_type": "code",
   "execution_count": 14,
   "metadata": {},
   "outputs": [],
   "source": [
    "def insert(root, key):\n",
    "    if root is None:\n",
    "        root = Node(key)\n",
    "        return root\n",
    "    \n",
    "    left = root.left\n",
    "    right = root.right\n",
    "    \n",
    "    if key < root.val:\n",
    "        if root.left is None:\n",
    "            root.left = Node(key)\n",
    "        else:\n",
    "            insert(left, key)\n",
    "    else:\n",
    "        if root.right is None:\n",
    "            root.right = Node(key)\n",
    "        else:\n",
    "            insert(right, key)"
   ]
  },
  {
   "cell_type": "code",
   "execution_count": 15,
   "metadata": {},
   "outputs": [],
   "source": [
    "r = Node(50) \n",
    "insert(r,30) \n",
    "insert(r,20) \n",
    "insert(r,40) \n",
    "insert(r,70) \n",
    "insert(r,60) \n",
    "insert(r,80) "
   ]
  },
  {
   "cell_type": "code",
   "execution_count": 18,
   "metadata": {},
   "outputs": [],
   "source": [
    "def inorder(root):\n",
    "    if root:        \n",
    "        inorder(root.left)\n",
    "        print(root.val)\n",
    "        inorder(root.right)"
   ]
  },
  {
   "cell_type": "code",
   "execution_count": 19,
   "metadata": {},
   "outputs": [
    {
     "name": "stdout",
     "output_type": "stream",
     "text": [
      "20\n",
      "30\n",
      "40\n",
      "50\n",
      "60\n",
      "70\n",
      "80\n"
     ]
    }
   ],
   "source": [
    "inorder(r)"
   ]
  },
  {
   "cell_type": "markdown",
   "metadata": {},
   "source": [
    "## 3. Search"
   ]
  },
  {
   "cell_type": "code",
   "execution_count": 35,
   "metadata": {},
   "outputs": [],
   "source": [
    "def search(root, key):\n",
    "    if root.val == key or root is None:\n",
    "        print(root.val)\n",
    "        return root\n",
    "    \n",
    "    right = root.right\n",
    "    left = root.left\n",
    "    \n",
    "    if key < root.val:\n",
    "        search(left, key)\n",
    "    else:\n",
    "        search(right, key)"
   ]
  },
  {
   "cell_type": "code",
   "execution_count": 36,
   "metadata": {
    "scrolled": true
   },
   "outputs": [
    {
     "name": "stdout",
     "output_type": "stream",
     "text": [
      "20\n"
     ]
    }
   ],
   "source": [
    "search(r, 20)"
   ]
  }
 ],
 "metadata": {
  "kernelspec": {
   "display_name": "Python 3",
   "language": "python",
   "name": "python3"
  },
  "language_info": {
   "codemirror_mode": {
    "name": "ipython",
    "version": 3
   },
   "file_extension": ".py",
   "mimetype": "text/x-python",
   "name": "python",
   "nbconvert_exporter": "python",
   "pygments_lexer": "ipython3",
   "version": "3.7.6"
  }
 },
 "nbformat": 4,
 "nbformat_minor": 4
}
